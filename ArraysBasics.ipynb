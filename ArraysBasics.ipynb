{
 "cells": [
  {
   "cell_type": "code",
   "execution_count": 16,
   "metadata": {},
   "outputs": [
    {
     "name": "stdout",
     "output_type": "stream",
     "text": [
      "2\n",
      "int32\n",
      "(2, 3)\n",
      "6\n"
     ]
    }
   ],
   "source": [
    "import numpy as np\n",
    "\n",
    "n_array = np.array([[1,2,4],[4,3,7]])\n",
    "print(n_array.ndim)\n",
    "print(n_array.dtype.name)\n",
    "print(n_array.shape)\n",
    "print(n_array.size)"
   ]
  },
  {
   "cell_type": "code",
   "execution_count": 27,
   "metadata": {},
   "outputs": [
    {
     "name": "stdout",
     "output_type": "stream",
     "text": [
      "[ True  True  True False]\n",
      "[1 1 1 1]\n",
      "[1 3 5 7]\n",
      "[0 1 2 3]\n",
      "[0 1 4 9]\n",
      "[ 0.54030231 -0.41614684 -0.9899925  -0.65364362]\n"
     ]
    }
   ],
   "source": [
    "a = np.array([1,2,3,4])\n",
    "b = np.array([0,1,2,3])\n",
    "c = a- b\n",
    "d = a + b\n",
    "e = b*b\n",
    "#trigonometricc functions can also be applied to the elements of the array\n",
    "g = np.cos(a)\n",
    "#conditional operators\n",
    "print(b<2)\n",
    "print(c)\n",
    "print(d)\n",
    "print(b)\n",
    "print(e)\n",
    "print(g)"
   ]
  },
  {
   "cell_type": "code",
   "execution_count": 29,
   "metadata": {},
   "outputs": [
    {
     "name": "stdout",
     "output_type": "stream",
     "text": [
      "[[ 3 10]\n",
      " [ 4  6]]\n",
      "[[11 17]\n",
      " [ 7 11]]\n"
     ]
    }
   ],
   "source": [
    "a1 = np.array([[1,2],[1,1]])\n",
    "b1 = np.array([[3,5],[4,6]])\n",
    "c = a1*b1\n",
    "#dot product\n",
    "d = np.dot(a1,b1)\n",
    "print(c)\n",
    "print(d)"
   ]
  },
  {
   "cell_type": "code",
   "execution_count": 51,
   "metadata": {},
   "outputs": [
    {
     "name": "stdout",
     "output_type": "stream",
     "text": [
      "[1 2 4]\n",
      "[[1 2 4]\n",
      " [4 3 7]]\n",
      "[4 3 7]\n",
      "[4 7]\n"
     ]
    }
   ],
   "source": [
    "#aa = np.array([1,2,3,4,5])\n",
    "print(n_array[0])\n",
    "print(n_array[0:3]) #selects the first three value of the first row\n",
    "print(n_array[1,:])\n",
    "print(n_array[:,2])"
   ]
  },
  {
   "cell_type": "code",
   "execution_count": 56,
   "metadata": {},
   "outputs": [
    {
     "name": "stdout",
     "output_type": "stream",
     "text": [
      "[1 2 4 4 3 7]\n",
      "[[1 2]\n",
      " [4 4]\n",
      " [3 7]]\n",
      "[[1 4 3]\n",
      " [2 4 7]]\n"
     ]
    }
   ],
   "source": [
    "#Shape manipulation of the array\n",
    "arr = np.ravel(n_array)\n",
    "print(arr)\n",
    "arr.shape = (3,2)\n",
    "print(arr)\n",
    "barr = arr.transpose()\n",
    "print(barr)"
   ]
  },
  {
   "cell_type": "code",
   "execution_count": null,
   "metadata": {},
   "outputs": [],
   "source": [
    " \n",
    "\n",
    "\n"
   ]
  }
 ],
 "metadata": {
  "kernelspec": {
   "display_name": "Python 3",
   "language": "python",
   "name": "python3"
  },
  "language_info": {
   "codemirror_mode": {
    "name": "ipython",
    "version": 3
   },
   "file_extension": ".py",
   "mimetype": "text/x-python",
   "name": "python",
   "nbconvert_exporter": "python",
   "pygments_lexer": "ipython3",
   "version": "3.7.3"
  }
 },
 "nbformat": 4,
 "nbformat_minor": 2
}
