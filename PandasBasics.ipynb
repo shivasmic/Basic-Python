{
 "cells": [
  {
   "cell_type": "code",
   "execution_count": 5,
   "metadata": {},
   "outputs": [
    {
     "name": "stdout",
     "output_type": "stream",
     "text": [
      "0    0.494275\n",
      "1    0.467391\n",
      "2   -0.515297\n",
      "3    0.228468\n",
      "4   -0.219261\n",
      "dtype: float64\n"
     ]
    }
   ],
   "source": [
    "import pandas as pd\n",
    "import numpy as np\n",
    "s = pd.Series(np.random.randn(5))\n",
    "print(s)"
   ]
  },
  {
   "cell_type": "code",
   "execution_count": 7,
   "metadata": {},
   "outputs": [
    {
     "name": "stdout",
     "output_type": "stream",
     "text": [
      "a   -1.753472\n",
      "b   -1.315162\n",
      "c   -0.138870\n",
      "d   -1.457100\n",
      "e    2.176383\n",
      "dtype: float64\n"
     ]
    }
   ],
   "source": [
    "import numpy as np\n",
    "import pandas as pd\n",
    "arr = pd.Series(np.random.randn(5),index = ['a','b','c','d','e'])\n",
    "print(arr)"
   ]
  },
  {
   "cell_type": "code",
   "execution_count": 8,
   "metadata": {},
   "outputs": [
    {
     "name": "stdout",
     "output_type": "stream",
     "text": [
      "A    1\n",
      "B    2\n",
      "C    3\n",
      "dtype: int64\n"
     ]
    }
   ],
   "source": [
    "#data series can be obtained from a pandas dictionary\n",
    "\n",
    "d = {'A':1,'B':2,'C':3}\n",
    "a = pd.Series(d)\n",
    "print(a)"
   ]
  },
  {
   "cell_type": "code",
   "execution_count": 10,
   "metadata": {},
   "outputs": [
    {
     "name": "stdout",
     "output_type": "stream",
     "text": [
      "  C1 C2\n",
      "0  A  D\n",
      "1  B  E\n",
      "2  C  F\n"
     ]
    }
   ],
   "source": [
    "#DataFrame using a dictionary of series\n",
    "\n",
    "d = {'C1':pd.Series(['A','B','C']),'C2':pd.Series(['D','E','F'])}\n",
    "dd = pd.DataFrame(d)\n",
    "print(dd)"
   ]
  },
  {
   "cell_type": "code",
   "execution_count": 65,
   "metadata": {},
   "outputs": [
    {
     "name": "stdout",
     "output_type": "stream",
     "text": [
      "  C1  C2\n",
      "0  A   1\n",
      "1  B   2\n",
      "2  C   4\n",
      "3  D   5\n"
     ]
    }
   ],
   "source": [
    "#dataframe using a dictionary of lists\n",
    "import pandas as pd\n",
    "l = {'C1':['A','B','C','D'],'C2':[1,2,4,5]}\n",
    "df = pd.DataFrame(l)\n",
    "print(df)"
   ]
  },
  {
   "cell_type": "code",
   "execution_count": 17,
   "metadata": {},
   "outputs": [
    {
     "name": "stdout",
     "output_type": "stream",
     "text": [
      "<class 'pandas.core.panel.Panel'>\n",
      "Dimensions: 2 (items) x 4 (major_axis) x 3 (minor_axis)\n",
      "Items axis: A to B\n",
      "Major_axis axis: 0 to 3\n",
      "Minor_axis axis: 0 to 2\n"
     ]
    }
   ],
   "source": [
    "#Panels\n",
    "\n",
    "import numpy as np\n",
    "import pandas as pd\n",
    "t = {'A':pd.DataFrame(np.random.randn(4,3)),'B':pd.DataFrame(np.random.randn(4,2))}\n",
    "p = pd.Panel(t)\n",
    "print(p)"
   ]
  },
  {
   "cell_type": "code",
   "execution_count": null,
   "metadata": {},
   "outputs": [],
   "source": []
  },
  {
   "cell_type": "code",
   "execution_count": null,
   "metadata": {},
   "outputs": [],
   "source": []
  },
  {
   "cell_type": "code",
   "execution_count": 73,
   "metadata": {},
   "outputs": [
    {
     "name": "stdout",
     "output_type": "stream",
     "text": [
      "   c1   c2\n",
      "0   1    a\n",
      "1   2    b\n",
      "2   3    d\n",
      "3   4  NaN\n"
     ]
    },
    {
     "data": {
      "text/html": [
       "<div>\n",
       "<style scoped>\n",
       "    .dataframe tbody tr th:only-of-type {\n",
       "        vertical-align: middle;\n",
       "    }\n",
       "\n",
       "    .dataframe tbody tr th {\n",
       "        vertical-align: top;\n",
       "    }\n",
       "\n",
       "    .dataframe thead th {\n",
       "        text-align: right;\n",
       "    }\n",
       "</style>\n",
       "<table border=\"1\" class=\"dataframe\">\n",
       "  <thead>\n",
       "    <tr style=\"text-align: right;\">\n",
       "      <th></th>\n",
       "      <th>c1</th>\n",
       "      <th>c2</th>\n",
       "    </tr>\n",
       "  </thead>\n",
       "  <tbody>\n",
       "    <tr>\n",
       "      <th>0</th>\n",
       "      <td>False</td>\n",
       "      <td>False</td>\n",
       "    </tr>\n",
       "    <tr>\n",
       "      <th>1</th>\n",
       "      <td>False</td>\n",
       "      <td>False</td>\n",
       "    </tr>\n",
       "    <tr>\n",
       "      <th>2</th>\n",
       "      <td>False</td>\n",
       "      <td>False</td>\n",
       "    </tr>\n",
       "    <tr>\n",
       "      <th>3</th>\n",
       "      <td>False</td>\n",
       "      <td>True</td>\n",
       "    </tr>\n",
       "  </tbody>\n",
       "</table>\n",
       "</div>"
      ],
      "text/plain": [
       "      c1     c2\n",
       "0  False  False\n",
       "1  False  False\n",
       "2  False  False\n",
       "3  False   True"
      ]
     },
     "execution_count": 73,
     "metadata": {},
     "output_type": "execute_result"
    }
   ],
   "source": [
    "#Converting the data into the csv \n",
    "\n",
    "import numpy as np\n",
    "import pandas as pd\n",
    "\n",
    "d = {'c1':pd.Series([1,2,3,4]),'c2':pd.Series(['a','b','d'])}\n",
    "df = pd.DataFrame(d)\n",
    "gf = df\n",
    "print(df)\n",
    "df.isnull()\n",
    "#cs = df.to_csv(df)\n",
    "#s = pd.read_csv(cs) #read_csv requires path\n",
    "#print(s)"
   ]
  },
  {
   "cell_type": "code",
   "execution_count": null,
   "metadata": {},
   "outputs": [],
   "source": [
    "#for json\n",
    "import json\n",
    "json_data = open(path)\n",
    "data = json.load(json_data)\n",
    "or \n",
    "data = pd.read_json(Path)\n",
    "json_data.close()"
   ]
  },
  {
   "cell_type": "code",
   "execution_count": null,
   "metadata": {},
   "outputs": [],
   "source": [
    "#databases\n",
    "d = read_sql_table(Table,con)\n",
    "d = read_sql_query(SQL,con)\n",
    "#Table = database table\n",
    "#SQL = sql query\n",
    "#con = connection to the database"
   ]
  },
  {
   "cell_type": "code",
   "execution_count": 74,
   "metadata": {},
   "outputs": [
    {
     "name": "stdout",
     "output_type": "stream",
     "text": [
      "   c1   c2\n",
      "0   1    a\n",
      "1   2    b\n",
      "2   3    d\n",
      "3   4  NaN\n"
     ]
    }
   ],
   "source": [
    "df.isnull()\n",
    "#df['c1'].isnull().value_counts()\n",
    "df['c2'].isnull().value_counts()\n",
    "#df.dropna(inplace = True)\n",
    "print(df)\n"
   ]
  },
  {
   "cell_type": "code",
   "execution_count": 85,
   "metadata": {},
   "outputs": [
    {
     "name": "stdout",
     "output_type": "stream",
     "text": [
      "shivam\n"
     ]
    }
   ],
   "source": [
    "#to convert a string to upper case = String_name.str.upper()\n",
    "#to convert a string to lower case = String_name.str.lower()\n",
    "#to get length of a string = String_name.str.len()\n",
    "Str = 'Shivam'\n",
    "#S = Str.upper()\n",
    "#S = len(Str)\n",
    "S = Str.lower()\n",
    "print(S)"
   ]
  },
  {
   "cell_type": "code",
   "execution_count": 89,
   "metadata": {},
   "outputs": [
    {
     "name": "stdout",
     "output_type": "stream",
     "text": [
      "   c1 c2\n",
      "0   1  a\n",
      "1   2  b\n",
      "2   3  d\n",
      "3   4  d\n"
     ]
    }
   ],
   "source": [
    "c = df.fillna(method = 'pad') #forward propagation\n",
    "#c = df.fillna(df.mean()) # to pad with the  mean\n",
    "#d= df['c1'].count()\n",
    "print(c)"
   ]
  },
  {
   "cell_type": "code",
   "execution_count": 96,
   "metadata": {},
   "outputs": [
    {
     "name": "stdout",
     "output_type": "stream",
     "text": [
      "2.5\n"
     ]
    }
   ],
   "source": [
    "#Aggreagate operations\n",
    "print(df['c1'].mean())"
   ]
  },
  {
   "cell_type": "code",
   "execution_count": 91,
   "metadata": {},
   "outputs": [
    {
     "name": "stdout",
     "output_type": "stream",
     "text": [
      "1\n"
     ]
    }
   ],
   "source": [
    "print(df['c1'].min())"
   ]
  },
  {
   "cell_type": "code",
   "execution_count": 92,
   "metadata": {},
   "outputs": [
    {
     "name": "stdout",
     "output_type": "stream",
     "text": [
      "4\n"
     ]
    }
   ],
   "source": [
    "print(df['c1'].max())"
   ]
  },
  {
   "cell_type": "code",
   "execution_count": 93,
   "metadata": {},
   "outputs": [
    {
     "name": "stdout",
     "output_type": "stream",
     "text": [
      "10\n"
     ]
    }
   ],
   "source": [
    "print(df['c1'].sum())"
   ]
  },
  {
   "cell_type": "code",
   "execution_count": 95,
   "metadata": {},
   "outputs": [
    {
     "name": "stdout",
     "output_type": "stream",
     "text": [
      "1.2909944487358056\n"
     ]
    }
   ],
   "source": [
    "#standard deviation\n",
    "print(df['c1'].std())"
   ]
  },
  {
   "cell_type": "code",
   "execution_count": null,
   "metadata": {},
   "outputs": [],
   "source": []
  }
 ],
 "metadata": {
  "kernelspec": {
   "display_name": "Python 3",
   "language": "python",
   "name": "python3"
  },
  "language_info": {
   "codemirror_mode": {
    "name": "ipython",
    "version": 3
   },
   "file_extension": ".py",
   "mimetype": "text/x-python",
   "name": "python",
   "nbconvert_exporter": "python",
   "pygments_lexer": "ipython3",
   "version": "3.7.3"
  }
 },
 "nbformat": 4,
 "nbformat_minor": 2
}
