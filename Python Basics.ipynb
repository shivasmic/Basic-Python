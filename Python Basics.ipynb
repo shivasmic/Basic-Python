{
 "cells": [
  {
   "cell_type": "markdown",
   "metadata": {},
   "source": [
    "# Python Basics\n"
   ]
  },
  {
   "cell_type": "code",
   "execution_count": 4,
   "metadata": {},
   "outputs": [
    {
     "name": "stdout",
     "output_type": "stream",
     "text": [
      "12 10\n",
      "10\n"
     ]
    }
   ],
   "source": [
    "#Print Function\n",
    "a = 12\n",
    "print(a, end = \" \") #end means after a space will be printed\n",
    "print(10)\n",
    "print(10)"
   ]
  },
  {
   "cell_type": "code",
   "execution_count": 5,
   "metadata": {},
   "outputs": [
    {
     "data": {
      "text/plain": [
       "12"
      ]
     },
     "execution_count": 5,
     "metadata": {},
     "output_type": "execute_result"
    }
   ],
   "source": [
    "#Output of last line gets printed\n",
    "#since a was 12\n",
    "b = 10\n",
    "a "
   ]
  },
  {
   "cell_type": "code",
   "execution_count": 6,
   "metadata": {},
   "outputs": [
    {
     "name": "stdout",
     "output_type": "stream",
     "text": [
      "<class 'int'>\n",
      "<class 'float'>\n",
      "<class 'complex'>\n"
     ]
    }
   ],
   "source": [
    "#Variable and three types of numbers\n",
    "a = 10\n",
    "print(type(a))\n",
    "a = 12.3\n",
    "print(type(a))\n",
    "a = 10 + 3j\n",
    "print(type(a))"
   ]
  },
  {
   "cell_type": "code",
   "execution_count": 7,
   "metadata": {},
   "outputs": [
    {
     "data": {
      "text/plain": [
       "(10+3j)"
      ]
     },
     "execution_count": 7,
     "metadata": {},
     "output_type": "execute_result"
    }
   ],
   "source": [
    "#Order of execution matters not the order of cells\n",
    "a\n"
   ]
  },
  {
   "cell_type": "code",
   "execution_count": 8,
   "metadata": {},
   "outputs": [
    {
     "name": "stdout",
     "output_type": "stream",
     "text": [
      "12\n",
      "20\n",
      "32\n",
      "-8\n",
      "240\n",
      "0.6\n",
      "12\n"
     ]
    }
   ],
   "source": [
    "#Arithmetic Operations\n",
    "a = 12\n",
    "b = 20\n",
    "print(a)\n",
    "print(b)\n",
    "print(a + b)\n",
    "print(a - b)\n",
    "print(a * b)\n",
    "print(a / b)    #prints the floor value of the division in c++ and java\n",
    "print(a % b)"
   ]
  },
  {
   "cell_type": "code",
   "execution_count": 10,
   "metadata": {},
   "outputs": [
    {
     "name": "stdout",
     "output_type": "stream",
     "text": [
      "this is a string\n",
      "this is a string\n"
     ]
    }
   ],
   "source": [
    "#Strings in Python\n",
    "a = 'this is a string'  #double or single quotes don't matter at all\n",
    "b = \"this is a string\"\n",
    "print(a)\n",
    "print(b)"
   ]
  },
  {
   "cell_type": "code",
   "execution_count": 11,
   "metadata": {},
   "outputs": [
    {
     "name": "stdout",
     "output_type": "stream",
     "text": [
      "16\n",
      "<class 'str'>\n",
      "The strings in Python are immutable\n",
      "<class 'str'>\n",
      "The strings in Python are immutableAlright\n"
     ]
    }
   ],
   "source": [
    "#Operations on Strings\n",
    "print(len(a))\n",
    "a = \"The strings in Python are immutable\" #valid as we are making \"a\" point to another string\n",
    "# a[0] = '2' : this is invalid\n",
    "print(type(a))\n",
    "print(a,)\n",
    "b = '2'\n",
    "print(type(b)) #Python has no characters it only has strings\n",
    "c = 'Alright'\n",
    "d = a + c #String Concatenation\n",
    "print(d)"
   ]
  },
  {
   "cell_type": "code",
   "execution_count": 66,
   "metadata": {},
   "outputs": [
    {
     "name": "stdout",
     "output_type": "stream",
     "text": [
      " abc \n",
      " ABC \n",
      " abc \n",
      "abc\n",
      "False\n"
     ]
    }
   ],
   "source": [
    "#Some String functions\n",
    "a = \" abc \"\n",
    "print(a)\n",
    "print(a.upper()) #s.upper() returns a new object and doesn’t make changes in original string object \"a\".  \n",
    "print(a.lower())\n",
    "print(a.strip()) #removes all the white spaces in the beginning or in the end\n",
    "print(a.isalpha()) #it returns false as it contains spaces as well as the alphabets"
   ]
  },
  {
   "cell_type": "code",
   "execution_count": 12,
   "metadata": {},
   "outputs": [
    {
     "name": "stdout",
     "output_type": "stream",
     "text": [
      "1\n",
      "1\n",
      "<class 'str'>\n",
      "2\n",
      "<class 'int'>\n"
     ]
    }
   ],
   "source": [
    "#User input\n",
    "a = input() #it takes input as a String\n",
    "print(a)\n",
    "print(type(a))\n",
    "a = int(input()) #converted the String into integer\n",
    "print(type(a))"
   ]
  },
  {
   "cell_type": "code",
   "execution_count": 65,
   "metadata": {},
   "outputs": [],
   "source": [
    "abc = 1,0000,0000\n",
    "#a b c = 100, 000 , 0000 #it is invalid as the spaces are not allowed in a variable name\n",
    "a, b, c = 100, 200, 300"
   ]
  },
  {
   "cell_type": "code",
   "execution_count": 72,
   "metadata": {},
   "outputs": [
    {
     "name": "stdout",
     "output_type": "stream",
     "text": [
      "a\n",
      "b\n",
      "c\n",
      "c\n",
      "b\n",
      "a\n"
     ]
    }
   ],
   "source": [
    "#String Indexing\n",
    "a = \"abc\"\n",
    "print(a[0])\n",
    "print(a[1])\n",
    "print(a[2])\n",
    "print(a[-1])\n",
    "print(a[-2])\n",
    "print(a[-3])"
   ]
  },
  {
   "cell_type": "code",
   "execution_count": 82,
   "metadata": {},
   "outputs": [
    {
     "name": "stdout",
     "output_type": "stream",
     "text": [
      "abcd\n",
      "egh\n",
      "bc\n",
      "abcdegh\n",
      "h\n"
     ]
    }
   ],
   "source": [
    "#String Slicing\n",
    "#Starting index element is always included and last index element is not included\n",
    "a = \"abcdegh\"\n",
    "print(a[:4]) #Before 4th\n",
    "print(a[4:]) #After 4th and 4th is included as 4 is the starting index\n",
    "print(a[1:3])\n",
    "print(a[:])\n",
    "print(a[-1:]) #as -1 is the last index"
   ]
  },
  {
   "cell_type": "code",
   "execution_count": 91,
   "metadata": {},
   "outputs": [
    {
     "name": "stdout",
     "output_type": "stream",
     "text": [
      "(1, 2, 3)\n",
      "('ssd', 22.4, (1+3j))\n",
      "(1, 2, 3, 'ssd', 22.4, (1+3j))\n",
      "(1, 2, 3, 1, 2, 3)\n",
      "True\n"
     ]
    }
   ],
   "source": [
    "#Tuples\n",
    "a = (1,2,3)\n",
    "#a[0] = 5 is invalid as tuples are immutable\n",
    "print(a)\n",
    "b = ('ssd',22.4,1+3j)\n",
    "print(b)\n",
    "print(a+b)\n",
    "print(a*2) #copies the tuples by n times\n",
    "print(1 in a) #Checks if 1 is present in a"
   ]
  },
  {
   "cell_type": "code",
   "execution_count": 13,
   "metadata": {},
   "outputs": [
    {
     "name": "stdout",
     "output_type": "stream",
     "text": [
      "3.7.3 (default, Apr 24 2019, 15:29:51) [MSC v.1915 64 bit (AMD64)]\n"
     ]
    }
   ],
   "source": [
    "import sys\n",
    "print(sys.version)\n"
   ]
  },
  {
   "cell_type": "code",
   "execution_count": null,
   "metadata": {},
   "outputs": [],
   "source": []
  }
 ],
 "metadata": {
  "kernelspec": {
   "display_name": "Python 3",
   "language": "python",
   "name": "python3"
  },
  "language_info": {
   "codemirror_mode": {
    "name": "ipython",
    "version": 3
   },
   "file_extension": ".py",
   "mimetype": "text/x-python",
   "name": "python",
   "nbconvert_exporter": "python",
   "pygments_lexer": "ipython3",
   "version": "3.7.3"
  }
 },
 "nbformat": 4,
 "nbformat_minor": 2
}
